{
 "cells": [
  {
   "attachments": {},
   "cell_type": "markdown",
   "metadata": {},
   "source": [
    "# Horário Escolar\n",
    "\n",
    "Importando bibliotecas:"
   ]
  },
  {
   "cell_type": "code",
   "execution_count": 1,
   "metadata": {},
   "outputs": [],
   "source": [
    "import numpy as np\n",
    "import random as rd\n",
    "import pandas as pd\n",
    "from typing import List\n",
    "from collections import defaultdict"
   ]
  },
  {
   "attachments": {},
   "cell_type": "markdown",
   "metadata": {},
   "source": [
    "### 1° Cenário\n",
    "1 grade do ensino médio (3° Ano do ensino médio), com 30 aulas:"
   ]
  },
  {
   "cell_type": "code",
   "execution_count": 24,
   "metadata": {},
   "outputs": [],
   "source": [
    "grades = {\n",
    "    '3-medio-basico'    :   {\n",
    "        'arte': 1, 'biologia': 3, 'ed-fisica': 1, 'filosofia': 1, 'física': 3, 'geografia': 2, 'historia': 2,\n",
    "        'ingles': 2, 'portugues': 4, 'matematica': 5, 'quimica': 4, 'sociologia': 1, 'redacao': 1\n",
    "    }\n",
    "}\n",
    "turmasGrade = {\n",
    "    '3-ano-A': '3-medio-basico',\n",
    "    '3-ano-B': '3-medio-basico',\n",
    "    '3-ano-C': '3-medio-basico'\n",
    "}\n",
    "professoresDisciplina = {\n",
    "    'vangogh':      {'aulas': 5, 'disciplinas': ['arte']},\n",
    "    'aristoteles':  {'aulas': 5, 'disciplinas': ['biologia']},\n",
    "    'platao':       {'aulas': 5, 'disciplinas': ['ed-fisica']},\n",
    "    'tales':        {'aulas': 5, 'disciplinas': ['filosofia']},\n",
    "    'apolo':        {'aulas': 5, 'disciplinas': ['física']},\n",
    "    'anaximandro':  {'aulas': 5, 'disciplinas': ['geografia']},\n",
    "    'heraclito':    {'aulas': 5, 'disciplinas': ['historia']},\n",
    "    'parmenides':   {'aulas': 5, 'disciplinas': ['ingles']},\n",
    "    'socrates':     {'aulas': 5, 'disciplinas': ['portugues']},\n",
    "    'pitagoras':    {'aulas': 5, 'disciplinas': ['matemática']},\n",
    "    'democrito':    {'aulas': 5, 'disciplinas': ['quimica']},\n",
    "    'epicuro':      {'aulas': 5, 'disciplinas': ['sociologia']},\n",
    "    'zenao':        {'aulas': 5, 'disciplinas': ['redacao']}\n",
    "}"
   ]
  },
  {
   "cell_type": "code",
   "execution_count": 25,
   "metadata": {},
   "outputs": [],
   "source": [
    "def check_fit(matrix:np.ndarray, sequence:int, extremity=False) -> List[tuple]:\n",
    "    '''Verifica o espaço disponível para encaixe da aula.\n",
    "\n",
    "    Parâmetros\n",
    "    ----------\n",
    "    matrix: Matriz da verificação com qualquer dimensões.\n",
    "    sequence: Sequência da aulas. Ex: 3 aulas de matemática sequênciais.\n",
    "    extremity: Explora somente os encaixes nas extremidades.\n",
    "    Ex: 3 aulas sequênciais em 5 aulas -> [(0, 0), (0, 2)]\n",
    "    a possibilidade das 3 aulas no meio serão excluídas: [(0, 1)].\n",
    "\n",
    "    Retorno\n",
    "    -------\n",
    "    Um array de tuplas com as posições possíveis para o encaixe.\n",
    "    '''\n",
    "    temp = []\n",
    "    for x, y in np.ndindex(matrix.shape):\n",
    "        pos = y - (sequence - 1)\n",
    "        if pos < 0:\n",
    "            pos = 0\n",
    "        if y >= (sequence -1):\n",
    "            test = np.full((1, sequence), x)[0]\n",
    "            if np.all(matrix[test, list(range(pos,y+1))]):\n",
    "                temp.append((x, pos))\n",
    "    if extremity:\n",
    "        newTemp = []\n",
    "        flat = defaultdict(list)\n",
    "        for x, y in temp:\n",
    "            flat[x].append(y)\n",
    "        for i in flat:\n",
    "            newTemp.append((i, flat[i][0]))\n",
    "            if len(flat[i]) > 1 and flat[i][-1]:\n",
    "                newTemp.append((i, flat[i][-1]))\n",
    "        return newTemp\n",
    "    return temp"
   ]
  },
  {
   "cell_type": "code",
   "execution_count": 4,
   "metadata": {},
   "outputs": [],
   "source": [
    "def fit(matrix:np.ndarray, sequence:int, extremity=False, random=False, oldidx=[]) -> int:\n",
    "    '''Encaixa as aulas na matriz e retorna maior igual a 0 (zero) caso sucesso'''\n",
    "    options = check_fit(matrix, sequence, extremity=extremity)\n",
    "    if options:\n",
    "        newOptions = []\n",
    "        for i in options:\n",
    "            if i[0] not in oldidx:\n",
    "                newOptions.append(i)\n",
    "        if not newOptions:\n",
    "            return -1\n",
    "        fitting = newOptions[0]\n",
    "        if random:\n",
    "            fitting = newOptions[rd.randint(0, len(newOptions) - 1)]\n",
    "        matrix[\n",
    "            fitting[0], \n",
    "            fitting[1]:fitting[1] + sequence\n",
    "        ] = 0\n",
    "        return fitting[0]\n",
    "    else:\n",
    "        return -1\n",
    "    \n",
    "def fit_transform(matrix:np.ndarray, total:int, sequence:int, extremity=True, random=True) -> bool:\n",
    "    '''Encaixa todas as aulas do professor e caso não consiga retorna Falso'''\n",
    "    oldidx = []\n",
    "    for _ in range(int(total / sequence)):\n",
    "        oldidx.append(fit(matrix, sequence, extremity, random, oldidx))\n",
    "        if -1 in oldidx:\n",
    "            return False\n",
    "    return True"
   ]
  },
  {
   "attachments": {},
   "cell_type": "markdown",
   "metadata": {},
   "source": [
    "## Testes unitários"
   ]
  },
  {
   "attachments": {},
   "cell_type": "markdown",
   "metadata": {},
   "source": [
    "- 6 Aulas de português, com sequência de 2, nas extremidades.\n",
    "- 6 Aulas de matemática, com sequência de 3. Não aleatório."
   ]
  },
  {
   "cell_type": "code",
   "execution_count": 6,
   "metadata": {},
   "outputs": [
    {
     "data": {
      "text/plain": [
       "array([[0, 0, 0, 1, 1],\n",
       "       [0, 0, 0, 0, 0],\n",
       "       [1, 1, 1, 0, 0],\n",
       "       [0, 0, 1, 1, 1],\n",
       "       [1, 1, 1, 1, 1]])"
      ]
     },
     "execution_count": 6,
     "metadata": {},
     "output_type": "execute_result"
    }
   ],
   "source": [
    "matrix = np.ones((5,5), int)\n",
    "assert fit_transform(matrix, 6, 2) == True\n",
    "assert fit_transform(matrix, 6, 3, extremity=False, random=False) == True\n",
    "matrix"
   ]
  },
  {
   "attachments": {},
   "cell_type": "markdown",
   "metadata": {},
   "source": [
    "Mais combinações:"
   ]
  },
  {
   "cell_type": "code",
   "execution_count": 251,
   "metadata": {},
   "outputs": [],
   "source": [
    "matrix = np.ones((2,5), int)\n",
    "assert checkFit(matrix, 1) == [(0, 0), (0, 1), (0, 2), (0, 3), (0, 4), (1, 0), (1, 1), (1, 2), (1, 3), (1, 4)]\n",
    "assert checkFit(matrix, 2) == [(0, 0), (0, 1), (0, 2), (0, 3), (1, 0), (1, 1), (1, 2), (1, 3)]\n",
    "assert checkFit(matrix, 3) == [(0, 0), (0, 1), (0, 2), (1, 0), (1, 1), (1, 2)]\n",
    "assert checkFit(matrix, 4) == [(0, 0), (0, 1), (1, 0), (1, 1)]\n",
    "assert checkFit(matrix, 5) == [(0, 0), (1, 0)]\n",
    "assert checkFit(np.array([\n",
    "[1, 1, 1, 0, 1],\n",
    "[0, 0, 0, 1, 0],\n",
    "[1, 0, 0, 0, 1],\n",
    "[1, 1, 1, 0, 0]]), 2) == [(0, 0), (0, 1), (3, 0), (3, 1)]\n",
    "assert checkFit(matrix, 1, True) == [(0, 0), (0, 4), (1, 0), (1, 4)]\n",
    "assert checkFit(matrix, 2, True) == [(0, 0), (0, 3), (1, 0), (1, 3)]\n",
    "assert checkFit(matrix, 3, True) == [(0, 0), (0, 2), (1, 0), (1, 2)]\n",
    "assert checkFit(matrix, 4, True) == [(0, 0), (0, 1), (1, 0), (1, 1)]\n",
    "assert checkFit(matrix, 5, True) == [(0, 0), (1, 0)]\n",
    "assert checkFit(np.array([\n",
    "[1, 1, 1, 0, 1],\n",
    "[0, 0, 0, 1, 0],\n",
    "[1, 0, 0, 0, 1],\n",
    "[1, 1, 1, 0, 0]]), 2, True) == [(0, 0), (0, 1), (3, 0), (3, 1)]"
   ]
  },
  {
   "cell_type": "code",
   "execution_count": 7,
   "metadata": {},
   "outputs": [],
   "source": [
    "# def transform(matrix:np.ndarray, classes:list):\n",
    "#     count = 0\n",
    "#     while count < matrix.size:\n",
    "#         print('tentativa,', count)\n",
    "#         success = True\n",
    "#         mcopy = np.ones((5,5), int)\n",
    "#         for i,c in enumerate(classes):\n",
    "#             if not fit(mcopy, c):\n",
    "#                 #print('false', mcopy)\n",
    "#                 success = False\n",
    "#                 print(count, '| Não foi possível encaixar', c, 'aulas, na posição', i)\n",
    "#                 break\n",
    "#         #print('ok', mcopy)\n",
    "#         if success:\n",
    "#             print('ok')\n",
    "#             print(mcopy)\n",
    "#             #return mcopy\n",
    "#         count += 1\n",
    "    \n",
    "# aulas = [2,2,3,3,3,1,1,2,3,2,1,2]\n",
    "# matrix = np.ones((5,5), int)\n",
    "# print(matrix.size, sum(aulas), len(aulas))\n",
    "# transform(matrix, aulas)\n",
    "#matrix\n",
    "#df = pd.DataFrame(matrix, columns=['Seg', 'Ter', 'Qua', 'Qui', 'Sex'])\n",
    "#df"
   ]
  }
 ],
 "metadata": {
  "kernelspec": {
   "display_name": ".venv",
   "language": "python",
   "name": "python3"
  },
  "language_info": {
   "codemirror_mode": {
    "name": "ipython",
    "version": 3
   },
   "file_extension": ".py",
   "mimetype": "text/x-python",
   "name": "python",
   "nbconvert_exporter": "python",
   "pygments_lexer": "ipython3",
   "version": "3.8.10"
  },
  "orig_nbformat": 4
 },
 "nbformat": 4,
 "nbformat_minor": 2
}
